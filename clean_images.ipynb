{
 "cells": [
  {
   "cell_type": "code",
   "execution_count": 1,
   "metadata": {},
   "outputs": [],
   "source": [
    "from PIL import Image\n",
    "import glob"
   ]
  },
  {
   "cell_type": "code",
   "execution_count": 2,
   "metadata": {},
   "outputs": [],
   "source": [
    "\n",
    "list_img = glob.glob('images/*.jpg')"
   ]
  },
  {
   "cell_type": "code",
   "execution_count": 9,
   "metadata": {},
   "outputs": [],
   "source": [
    "\n",
    "final_size = 512\n",
    "for n, img in enumerate(list_img[:10], 1):\n",
    "    num_img = Image.open(img)\n",
    "    max_dim = max(num_img.size)\n",
    "    ratio = final_size / max_dim\n",
    "    #img_width = (int(num_img.size[0]*ratio))\n",
    "    #img_height = (int(num_img.size[1]*ratio))\n",
    "    prev_size = num_img.size\n",
    "    new_img_size = (int(prev_size[0] * ratio), int(prev_size[1] * ratio))\n",
    "    new_img = num_img.resize(new_img_size)\n",
    "    rgb_img = new_img.convert('RGB')\n",
    "    black_img = Image.new(mode='RGB', size=(final_size, final_size))\n",
    "    black_img.paste(rgb_img, ((final_size - new_img_size[0]) // 2, (final_size - new_img_size[1]) // 2))\n",
    "    #black_img.paste(rgb_img)\n",
    "    #file_name = \"data/new_images/\" + rgb_img.split(\"/\")[-1]\n",
    "    new_folder = \"data/new_images/\"\n",
    "    image_name = f'image_{n}.jpg'\n",
    "    new_path = new_folder + image_name\n",
    "    black_img.save(new_path)"
   ]
  },
  {
   "cell_type": "code",
   "execution_count": null,
   "metadata": {},
   "outputs": [],
   "source": [
    "max_dim"
   ]
  }
 ],
 "metadata": {
  "interpreter": {
   "hash": "c14a6692a215417f5263d283ebf372218c2d1b9771ac18dab80d5263bb04c7bf"
  },
  "kernelspec": {
   "display_name": "Python 3.9.12 ('selenium_project')",
   "language": "python",
   "name": "python3"
  },
  "language_info": {
   "codemirror_mode": {
    "name": "ipython",
    "version": 3
   },
   "file_extension": ".py",
   "mimetype": "text/x-python",
   "name": "python",
   "nbconvert_exporter": "python",
   "pygments_lexer": "ipython3",
   "version": "3.9.12"
  },
  "orig_nbformat": 4
 },
 "nbformat": 4,
 "nbformat_minor": 2
}
