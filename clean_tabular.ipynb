{
 "cells": [
  {
   "cell_type": "code",
   "execution_count": 1,
   "metadata": {},
   "outputs": [],
   "source": [
    "from sqlalchemy import create_engine\n",
    "import pandas as pd\n",
    "import yaml\n",
    "import numpy as np\n",
    "import sklearn\n",
    "import os\n",
    "from os.path import isfile"
   ]
  },
  {
   "cell_type": "code",
   "execution_count": 2,
   "metadata": {},
   "outputs": [],
   "source": [
    "fb_df = pd.read_json(\"data/products_table.json\")"
   ]
  },
  {
   "cell_type": "code",
   "execution_count": null,
   "metadata": {},
   "outputs": [],
   "source": [
    "fb_df.head()\n",
    "#8091 rows and 8 columns"
   ]
  },
  {
   "cell_type": "code",
   "execution_count": null,
   "metadata": {},
   "outputs": [],
   "source": [
    "fb_df.info()"
   ]
  },
  {
   "cell_type": "code",
   "execution_count": null,
   "metadata": {},
   "outputs": [],
   "source": [
    "fb_df['product_name'].describe()"
   ]
  },
  {
   "cell_type": "code",
   "execution_count": null,
   "metadata": {},
   "outputs": [],
   "source": [
    "fb_df.columns"
   ]
  },
  {
   "cell_type": "code",
   "execution_count": null,
   "metadata": {},
   "outputs": [],
   "source": [
    "import seaborn as sns\n",
    "sns.pairplot(fb_df)"
   ]
  },
  {
   "cell_type": "code",
   "execution_count": 3,
   "metadata": {},
   "outputs": [],
   "source": [
    "def remove_n_a_records(df, column: str):\n",
    "    \"\"\"\n",
    "    Scan the column for records with all N/As. Get rid of them\n",
    "\n",
    "    Args:\n",
    "        column (str): The column currently being scanned.\n",
    "    \"\"\"\n",
    "    # Swap N/A for the pandas nan, so we can drop them\n",
    "    temp_df = df[column].replace('N/A', np.nan)\n",
    "    temp_df = temp_df.dropna()\n",
    "    # Create a new df with only the records without the nans\n",
    "    clean_df = pd.merge(temp_df, df,\n",
    "                        left_index=True, right_index=True)\n",
    "    # The merge creates a duplicate column. Remove it.\n",
    "    clean_df.drop(column + '_x', inplace=True, axis=1)\n",
    "    # Rename the remaining category column\n",
    "    clean_df.rename(columns={column + '_y': column}, inplace=True)\n",
    "    # Commit the cleansed data to the dataframe\n",
    "    df = clean_df\n",
    "    return df\n",
    "\n",
    "fb_df = remove_n_a_records(fb_df, 'category')"
   ]
  },
  {
   "cell_type": "code",
   "execution_count": null,
   "metadata": {},
   "outputs": [],
   "source": [
    "fb_df"
   ]
  },
  {
   "cell_type": "code",
   "execution_count": null,
   "metadata": {},
   "outputs": [],
   "source": [
    "#seperate numerical columns and select numerical columns\n",
    "df_numeric = fb_df.select_dtypes(include=[np.number])\n",
    "numeric_cols = df_numeric.columns.values"
   ]
  },
  {
   "cell_type": "code",
   "execution_count": null,
   "metadata": {},
   "outputs": [],
   "source": [
    "#select non-numeric columns\n",
    "df_non_numeric = fb_df.select_dtypes(exclude=[np.number])\n",
    "non_numeric_cols = df_non_numeric.columns.values"
   ]
  },
  {
   "cell_type": "code",
   "execution_count": 4,
   "metadata": {},
   "outputs": [],
   "source": [
    "fb_df['price'] = fb_df['price'].apply(\n",
    "            lambda x: x.strip(\"£\").replace(',',''))\n",
    "fb_df['price'] = fb_df['price'].astype('float64')"
   ]
  },
  {
   "cell_type": "code",
   "execution_count": null,
   "metadata": {},
   "outputs": [],
   "source": [
    "#generate hierarchy from product_name, product_description and location\n",
    "fb_df"
   ]
  },
  {
   "cell_type": "code",
   "execution_count": null,
   "metadata": {},
   "outputs": [],
   "source": [
    "fb_df['price'].head(10)"
   ]
  },
  {
   "cell_type": "code",
   "execution_count": null,
   "metadata": {},
   "outputs": [],
   "source": [
    "fb_df"
   ]
  },
  {
   "cell_type": "code",
   "execution_count": null,
   "metadata": {},
   "outputs": [],
   "source": [
    "#check for outliers\n",
    "fb_df['price'].describe()"
   ]
  },
  {
   "cell_type": "code",
   "execution_count": null,
   "metadata": {},
   "outputs": [],
   "source": [
    "fb_df['price'].plot(kind='box', figsize=(12, 8))"
   ]
  },
  {
   "cell_type": "code",
   "execution_count": 5,
   "metadata": {},
   "outputs": [],
   "source": [
    "def remove_price_outliers(df):\n",
    "    \n",
    "    df = df[df['price'] < 10000]\n",
    "    df = df[df['price'] > 0.1]\n",
    "    return df\n",
    "\n",
    "fb_df = remove_price_outliers(fb_df)"
   ]
  },
  {
   "cell_type": "code",
   "execution_count": null,
   "metadata": {},
   "outputs": [],
   "source": [
    "fb_df['price'].plot(kind='box', figsize=(12, 8))"
   ]
  },
  {
   "cell_type": "code",
   "execution_count": null,
   "metadata": {},
   "outputs": [],
   "source": [
    "fb_df.describe()"
   ]
  },
  {
   "cell_type": "code",
   "execution_count": 6,
   "metadata": {},
   "outputs": [],
   "source": [
    "#split categories into main using lambda\n",
    "fb_df['main_category'] = fb_df['category'].apply(\n",
    "    lambda x: x.split(\"/\")[0].strip())\n",
    "fb_df['sub_category'] = fb_df['category'].apply(\n",
    "    lambda x: x.split(\"/\")[1].strip())\n",
    "#fb_df['mini_category'] = fb_df['category'].apply(\n",
    " #   lambda x: x.split(\"/\")[2].strip())\n"
   ]
  },
  {
   "cell_type": "code",
   "execution_count": null,
   "metadata": {},
   "outputs": [],
   "source": [
    "fb_df"
   ]
  },
  {
   "cell_type": "code",
   "execution_count": null,
   "metadata": {},
   "outputs": [],
   "source": [
    "import seaborn as sns"
   ]
  },
  {
   "cell_type": "code",
   "execution_count": null,
   "metadata": {},
   "outputs": [],
   "source": [
    "import geopy\n",
    "from geopy.geocoders import Nominatim\n",
    "from geopy.extra.rate_limiter import RateLimiter\n",
    "\n",
    "geocoder = Nominatim(user_agent='GetLoc')\n",
    "geocode = RateLimiter(geocoder.geocode, min_delay_seconds=0.3, return_value_on_exception=None)\n",
    "#location = geocode.reverse(, timeout=10, language='en')\n",
    "fb_df['geo_location'] = fb_df['location'].apply(geocode)\n",
    "fb_df['longiude_latitude'] = fb_df['geo_location'].apply(\n",
    "    lambda loc: tuple(loc.point) if loc else None)\n",
    "\n"
   ]
  },
  {
   "cell_type": "code",
   "execution_count": null,
   "metadata": {},
   "outputs": [],
   "source": [
    "fb_df"
   ]
  },
  {
   "cell_type": "code",
   "execution_count": 7,
   "metadata": {},
   "outputs": [],
   "source": [
    "#clean random characters from columns\n",
    "fb_df['product_name'] = fb_df['product_name'].str.lower().replace('\\W+', '_', regex=True)\n",
    "category_encodings = pd.get_dummies(\n",
    "            fb_df['product_name'], prefix='product_name', drop_first=True)\n",
    "fb_df['product_description'] = fb_df['product_description'].str.lower().replace('\\W+', '_', regex=True)\n",
    "category_encodings = pd.get_dummies(\n",
    "            fb_df['product_description'], prefix='product_description', drop_first=True)\n",
    "fb_df['category'] = fb_df['category'].str.lower().replace('\\W+', '_', regex=True)\n",
    "category_encodings = pd.get_dummies(\n",
    "            fb_df['category'], prefix='category', drop_first=True)\n",
    "fb_df['main_category'] = fb_df['main_category'].str.lower().replace('\\W+', '_', regex=True)\n",
    "category_encodings = pd.get_dummies(\n",
    "            fb_df['main_category'], prefix='main_category', drop_first=True)\n",
    "fb_df['location'] = fb_df['location'].str.lower().replace('\\W+', '_', regex=True)\n",
    "category_encodings = pd.get_dummies(\n",
    "            fb_df['location'], prefix='location', drop_first=True)\n",
    "fb_df['sub_category'] = fb_df['sub_category'].str.lower().replace('\\W+', '_', regex=True)\n",
    "category_encodings = pd.get_dummies(\n",
    "            fb_df['sub_category'], prefix='sub_category', drop_first=True)\n",
    "\n",
    "#fb_df = pd.concat(\n",
    "            #[fb_df, category_encodings], axis=1)\n"
   ]
  },
  {
   "cell_type": "code",
   "execution_count": 8,
   "metadata": {},
   "outputs": [
    {
     "data": {
      "text/html": [
       "<div>\n",
       "<style scoped>\n",
       "    .dataframe tbody tr th:only-of-type {\n",
       "        vertical-align: middle;\n",
       "    }\n",
       "\n",
       "    .dataframe tbody tr th {\n",
       "        vertical-align: top;\n",
       "    }\n",
       "\n",
       "    .dataframe thead th {\n",
       "        text-align: right;\n",
       "    }\n",
       "</style>\n",
       "<table border=\"1\" class=\"dataframe\">\n",
       "  <thead>\n",
       "    <tr style=\"text-align: right;\">\n",
       "      <th></th>\n",
       "      <th>id</th>\n",
       "      <th>product_name</th>\n",
       "      <th>category</th>\n",
       "      <th>product_description</th>\n",
       "      <th>price</th>\n",
       "      <th>location</th>\n",
       "      <th>page_id</th>\n",
       "      <th>create_time</th>\n",
       "      <th>main_category</th>\n",
       "      <th>sub_category</th>\n",
       "    </tr>\n",
       "  </thead>\n",
       "  <tbody>\n",
       "    <tr>\n",
       "      <th>1</th>\n",
       "      <td>243809c0-9cfc-4486-ad12-3b7a16605ba9</td>\n",
       "      <td>mirror_wall_art_in_wokingham_berkshire_gumtree</td>\n",
       "      <td>home_garden_dining_living_room_furniture_mirro...</td>\n",
       "      <td>mirror_wall_art_posted_by_nisha_in_dining_livi...</td>\n",
       "      <td>5.0</td>\n",
       "      <td>wokingham_berkshire</td>\n",
       "      <td>1426704584</td>\n",
       "      <td>2022-02-26</td>\n",
       "      <td>home_garden</td>\n",
       "      <td>dining_living_room_furniture</td>\n",
       "    </tr>\n",
       "    <tr>\n",
       "      <th>2</th>\n",
       "      <td>1c58d3f9-8b93-47ea-9415-204fcc2a22e6</td>\n",
       "      <td>stainless_steel_food_steamer_in_inverness_high...</td>\n",
       "      <td>home_garden_other_household_goods</td>\n",
       "      <td>morphy_richard_s_model_no_48755_stainless_stee...</td>\n",
       "      <td>20.0</td>\n",
       "      <td>inverness_highland</td>\n",
       "      <td>1426704579</td>\n",
       "      <td>2022-02-26</td>\n",
       "      <td>home_garden</td>\n",
       "      <td>other_household_goods</td>\n",
       "    </tr>\n",
       "    <tr>\n",
       "      <th>3</th>\n",
       "      <td>860673f1-57f6-47ba-8d2f-13f9e05b8f9a</td>\n",
       "      <td>sun_loungers_in_skegness_lincolnshire_gumtree</td>\n",
       "      <td>home_garden_garden_patio_outdoor_settings_furn...</td>\n",
       "      <td>i_have_2_of_these_collection_only_as_i_don_t_d...</td>\n",
       "      <td>20.0</td>\n",
       "      <td>skegness_lincolnshire</td>\n",
       "      <td>1426704576</td>\n",
       "      <td>2022-02-26</td>\n",
       "      <td>home_garden</td>\n",
       "      <td>garden_patio</td>\n",
       "    </tr>\n",
       "    <tr>\n",
       "      <th>4</th>\n",
       "      <td>59948726-29be-4b35-ade5-bb2fd7331856</td>\n",
       "      <td>coffee_side_table_from_ammunition_ammo_box_hai...</td>\n",
       "      <td>home_garden_dining_living_room_furniture_other</td>\n",
       "      <td>great_reclaimed_army_ammunition_box_used_as_co...</td>\n",
       "      <td>115.0</td>\n",
       "      <td>radstock_somerset</td>\n",
       "      <td>1426704575</td>\n",
       "      <td>2022-02-26</td>\n",
       "      <td>home_garden</td>\n",
       "      <td>dining_living_room_furniture</td>\n",
       "    </tr>\n",
       "    <tr>\n",
       "      <th>5</th>\n",
       "      <td>16dbc860-696e-4cda-93f6-4dd4926573fb</td>\n",
       "      <td>modern_shannon_sofa_for_sale_at_low_cost_in_de...</td>\n",
       "      <td>home_garden_dining_living_room_furniture_sofas...</td>\n",
       "      <td>new_design_shannon_corner_sofa_5_seater_availa...</td>\n",
       "      <td>450.0</td>\n",
       "      <td>delph_manchester</td>\n",
       "      <td>1426704570</td>\n",
       "      <td>2022-02-26</td>\n",
       "      <td>home_garden</td>\n",
       "      <td>dining_living_room_furniture</td>\n",
       "    </tr>\n",
       "    <tr>\n",
       "      <th>...</th>\n",
       "      <td>...</td>\n",
       "      <td>...</td>\n",
       "      <td>...</td>\n",
       "      <td>...</td>\n",
       "      <td>...</td>\n",
       "      <td>...</td>\n",
       "      <td>...</td>\n",
       "      <td>...</td>\n",
       "      <td>...</td>\n",
       "      <td>...</td>\n",
       "    </tr>\n",
       "    <tr>\n",
       "      <th>8085</th>\n",
       "      <td>c4148656-78a9-4f3e-b393-134fdc5ef900</td>\n",
       "      <td>sony_playstation_vr_move_bundle_in_acocks_gree...</td>\n",
       "      <td>video_games_consoles_consoles_ps4_sony_playsta...</td>\n",
       "      <td>sony_playstation_vr_move_bundle353cash_on_coll...</td>\n",
       "      <td>260.0</td>\n",
       "      <td>acocks_green_west_midlands</td>\n",
       "      <td>1422159237</td>\n",
       "      <td>2022-02-28</td>\n",
       "      <td>video_games_consoles</td>\n",
       "      <td>consoles</td>\n",
       "    </tr>\n",
       "    <tr>\n",
       "      <th>8086</th>\n",
       "      <td>564e3411-768d-4250-a624-b119d696f103</td>\n",
       "      <td>playstation_vr_v2_bundle_in_acocks_green_west_...</td>\n",
       "      <td>video_games_consoles_consoles_ps4_sony_playsta...</td>\n",
       "      <td>playstation_vr_v2_bundle355cash_on_collection_...</td>\n",
       "      <td>235.0</td>\n",
       "      <td>acocks_green_west_midlands</td>\n",
       "      <td>1422159464</td>\n",
       "      <td>2022-02-28</td>\n",
       "      <td>video_games_consoles</td>\n",
       "      <td>consoles</td>\n",
       "    </tr>\n",
       "    <tr>\n",
       "      <th>8088</th>\n",
       "      <td>2b0a652b-46a2-4297-b619-5efeeb222787</td>\n",
       "      <td>oculus_quest_2_256gb_in_montrose_angus_gumtree</td>\n",
       "      <td>video_games_consoles_other_video_games_consoles</td>\n",
       "      <td>pick_up_only_250comes_with_two_pistols_stocks_...</td>\n",
       "      <td>250.0</td>\n",
       "      <td>montrose_angus</td>\n",
       "      <td>1426668818</td>\n",
       "      <td>2022-02-28</td>\n",
       "      <td>video_games_consoles</td>\n",
       "      <td>other_video_games_consoles</td>\n",
       "    </tr>\n",
       "    <tr>\n",
       "      <th>8089</th>\n",
       "      <td>719fd40a-870e-4144-b324-55dff2e66fb4</td>\n",
       "      <td>logitech_driving_force_shifter_in_carrickfergu...</td>\n",
       "      <td>video_games_consoles_video_game_accessories_ot...</td>\n",
       "      <td>bought_at_christmas_from_currys_retailing_at_4...</td>\n",
       "      <td>30.0</td>\n",
       "      <td>carrickfergus_county_antrim</td>\n",
       "      <td>1426699715</td>\n",
       "      <td>2022-02-28</td>\n",
       "      <td>video_games_consoles</td>\n",
       "      <td>video_game_accessories</td>\n",
       "    </tr>\n",
       "    <tr>\n",
       "      <th>8090</th>\n",
       "      <td>86d1806b-5575-4a7e-9160-f24f12be6c95</td>\n",
       "      <td>20_games_nintendo_switch_bundle_in_poole_dorse...</td>\n",
       "      <td>video_games_consoles_games</td>\n",
       "      <td>nintendo_switch_console_only_used_2_3_times_al...</td>\n",
       "      <td>450.0</td>\n",
       "      <td>poole_dorset</td>\n",
       "      <td>1426699649</td>\n",
       "      <td>2022-02-28</td>\n",
       "      <td>video_games_consoles</td>\n",
       "      <td>games</td>\n",
       "    </tr>\n",
       "  </tbody>\n",
       "</table>\n",
       "<p>7011 rows × 10 columns</p>\n",
       "</div>"
      ],
      "text/plain": [
       "                                        id  \\\n",
       "1     243809c0-9cfc-4486-ad12-3b7a16605ba9   \n",
       "2     1c58d3f9-8b93-47ea-9415-204fcc2a22e6   \n",
       "3     860673f1-57f6-47ba-8d2f-13f9e05b8f9a   \n",
       "4     59948726-29be-4b35-ade5-bb2fd7331856   \n",
       "5     16dbc860-696e-4cda-93f6-4dd4926573fb   \n",
       "...                                    ...   \n",
       "8085  c4148656-78a9-4f3e-b393-134fdc5ef900   \n",
       "8086  564e3411-768d-4250-a624-b119d696f103   \n",
       "8088  2b0a652b-46a2-4297-b619-5efeeb222787   \n",
       "8089  719fd40a-870e-4144-b324-55dff2e66fb4   \n",
       "8090  86d1806b-5575-4a7e-9160-f24f12be6c95   \n",
       "\n",
       "                                           product_name  \\\n",
       "1        mirror_wall_art_in_wokingham_berkshire_gumtree   \n",
       "2     stainless_steel_food_steamer_in_inverness_high...   \n",
       "3         sun_loungers_in_skegness_lincolnshire_gumtree   \n",
       "4     coffee_side_table_from_ammunition_ammo_box_hai...   \n",
       "5     modern_shannon_sofa_for_sale_at_low_cost_in_de...   \n",
       "...                                                 ...   \n",
       "8085  sony_playstation_vr_move_bundle_in_acocks_gree...   \n",
       "8086  playstation_vr_v2_bundle_in_acocks_green_west_...   \n",
       "8088     oculus_quest_2_256gb_in_montrose_angus_gumtree   \n",
       "8089  logitech_driving_force_shifter_in_carrickfergu...   \n",
       "8090  20_games_nintendo_switch_bundle_in_poole_dorse...   \n",
       "\n",
       "                                               category  \\\n",
       "1     home_garden_dining_living_room_furniture_mirro...   \n",
       "2                     home_garden_other_household_goods   \n",
       "3     home_garden_garden_patio_outdoor_settings_furn...   \n",
       "4        home_garden_dining_living_room_furniture_other   \n",
       "5     home_garden_dining_living_room_furniture_sofas...   \n",
       "...                                                 ...   \n",
       "8085  video_games_consoles_consoles_ps4_sony_playsta...   \n",
       "8086  video_games_consoles_consoles_ps4_sony_playsta...   \n",
       "8088    video_games_consoles_other_video_games_consoles   \n",
       "8089  video_games_consoles_video_game_accessories_ot...   \n",
       "8090                         video_games_consoles_games   \n",
       "\n",
       "                                    product_description  price  \\\n",
       "1     mirror_wall_art_posted_by_nisha_in_dining_livi...    5.0   \n",
       "2     morphy_richard_s_model_no_48755_stainless_stee...   20.0   \n",
       "3     i_have_2_of_these_collection_only_as_i_don_t_d...   20.0   \n",
       "4     great_reclaimed_army_ammunition_box_used_as_co...  115.0   \n",
       "5     new_design_shannon_corner_sofa_5_seater_availa...  450.0   \n",
       "...                                                 ...    ...   \n",
       "8085  sony_playstation_vr_move_bundle353cash_on_coll...  260.0   \n",
       "8086  playstation_vr_v2_bundle355cash_on_collection_...  235.0   \n",
       "8088  pick_up_only_250comes_with_two_pistols_stocks_...  250.0   \n",
       "8089  bought_at_christmas_from_currys_retailing_at_4...   30.0   \n",
       "8090  nintendo_switch_console_only_used_2_3_times_al...  450.0   \n",
       "\n",
       "                         location     page_id create_time  \\\n",
       "1             wokingham_berkshire  1426704584  2022-02-26   \n",
       "2              inverness_highland  1426704579  2022-02-26   \n",
       "3           skegness_lincolnshire  1426704576  2022-02-26   \n",
       "4               radstock_somerset  1426704575  2022-02-26   \n",
       "5                delph_manchester  1426704570  2022-02-26   \n",
       "...                           ...         ...         ...   \n",
       "8085   acocks_green_west_midlands  1422159237  2022-02-28   \n",
       "8086   acocks_green_west_midlands  1422159464  2022-02-28   \n",
       "8088               montrose_angus  1426668818  2022-02-28   \n",
       "8089  carrickfergus_county_antrim  1426699715  2022-02-28   \n",
       "8090                 poole_dorset  1426699649  2022-02-28   \n",
       "\n",
       "             main_category                  sub_category  \n",
       "1              home_garden  dining_living_room_furniture  \n",
       "2              home_garden         other_household_goods  \n",
       "3              home_garden                  garden_patio  \n",
       "4              home_garden  dining_living_room_furniture  \n",
       "5              home_garden  dining_living_room_furniture  \n",
       "...                    ...                           ...  \n",
       "8085  video_games_consoles                      consoles  \n",
       "8086  video_games_consoles                      consoles  \n",
       "8088  video_games_consoles    other_video_games_consoles  \n",
       "8089  video_games_consoles        video_game_accessories  \n",
       "8090  video_games_consoles                         games  \n",
       "\n",
       "[7011 rows x 10 columns]"
      ]
     },
     "execution_count": 8,
     "metadata": {},
     "output_type": "execute_result"
    }
   ],
   "source": [
    "fb_df"
   ]
  },
  {
   "cell_type": "code",
   "execution_count": null,
   "metadata": {},
   "outputs": [],
   "source": [
    "fb_df.columns"
   ]
  },
  {
   "cell_type": "code",
   "execution_count": null,
   "metadata": {},
   "outputs": [],
   "source": [
    "sns.heatmap(fb_df.corr(), annot=True)"
   ]
  },
  {
   "cell_type": "code",
   "execution_count": null,
   "metadata": {},
   "outputs": [],
   "source": [
    "#remove duplicates\n",
    "columns = ['product_name', 'product_description', 'location', 'category']\n",
    "fb_df.drop_duplicates(subset=columns, keep=\"first\", )"
   ]
  },
  {
   "cell_type": "code",
   "execution_count": 9,
   "metadata": {},
   "outputs": [
    {
     "data": {
      "text/plain": [
       "1                home_garden\n",
       "2                home_garden\n",
       "3                home_garden\n",
       "4                home_garden\n",
       "5                home_garden\n",
       "                ...         \n",
       "8085    video_games_consoles\n",
       "8086    video_games_consoles\n",
       "8088    video_games_consoles\n",
       "8089    video_games_consoles\n",
       "8090    video_games_consoles\n",
       "Name: main_category, Length: 7011, dtype: object"
      ]
     },
     "execution_count": 9,
     "metadata": {},
     "output_type": "execute_result"
    }
   ],
   "source": [
    "#tested with product_name, product_description, location, category, main_category\n",
    "X = fb_df['main_category']\n",
    "y = fb_df['price']\n",
    "\n",
    "X"
   ]
  },
  {
   "cell_type": "code",
   "execution_count": 10,
   "metadata": {},
   "outputs": [
    {
     "data": {
      "text/plain": [
       "3039              diy_tools_materials\n",
       "7922             video_games_consoles\n",
       "6593                    health_beauty\n",
       "3340              diy_tools_materials\n",
       "7085       office_furniture_equipment\n",
       "                    ...              \n",
       "1055          music_films_books_games\n",
       "5852    phones_mobile_phones_telecoms\n",
       "4443          music_films_books_games\n",
       "271                       home_garden\n",
       "5796    phones_mobile_phones_telecoms\n",
       "Name: main_category, Length: 4907, dtype: object"
      ]
     },
     "execution_count": 10,
     "metadata": {},
     "output_type": "execute_result"
    }
   ],
   "source": [
    "from sklearn.model_selection import train_test_split\n",
    "X_train, X_test, y_train, y_test = train_test_split(\n",
    "    X, y, test_size=0.3, random_state=1\n",
    ")\n",
    "X_train"
   ]
  },
  {
   "cell_type": "code",
   "execution_count": 11,
   "metadata": {},
   "outputs": [],
   "source": [
    "from sklearn.feature_extraction.text import CountVectorizer\n",
    "cvec = CountVectorizer(stop_words= 'english').fit(X_train)\n",
    "df_train = pd.DataFrame(cvec.transform(X_train).todense(),\n",
    "                            columns=cvec.get_feature_names_out())"
   ]
  },
  {
   "cell_type": "code",
   "execution_count": 12,
   "metadata": {},
   "outputs": [
    {
     "name": "stdout",
     "output_type": "stream",
     "text": [
      "(4907, 13)\n",
      "(4907,)\n",
      "(2104, 13)\n",
      "(2104,)\n"
     ]
    }
   ],
   "source": [
    "df_test = pd.DataFrame(cvec.transform(X_test).todense(),\n",
    "                            columns=cvec.get_feature_names_out())\n",
    "print(df_train.shape)\n",
    "print(y_train.shape)\n",
    "print(df_test.shape)\n",
    "print(y_test.shape)"
   ]
  },
  {
   "cell_type": "code",
   "execution_count": 13,
   "metadata": {},
   "outputs": [
    {
     "data": {
      "text/plain": [
       "0.028655975940928613"
      ]
     },
     "execution_count": 13,
     "metadata": {},
     "output_type": "execute_result"
    }
   ],
   "source": [
    "from sklearn.linear_model import LinearRegression\n",
    "from sklearn.metrics import mean_squared_error, r2_score\n",
    "\n",
    "lm = LinearRegression()\n",
    "lm.fit(df_train, y_train)\n",
    "lm.score(df_test, y_test)\n",
    "#y_pred = lm.predict(X_test)"
   ]
  },
  {
   "cell_type": "code",
   "execution_count": 14,
   "metadata": {},
   "outputs": [
    {
     "name": "stdout",
     "output_type": "stream",
     "text": [
      "Coefficients: \n",
      " [1.45204921e+14 1.45204921e+14 1.45204921e+14 1.45204921e+14\n",
      " 1.45204921e+14 1.45204921e+14 1.45204921e+14 1.45204921e+14\n",
      " 1.45204921e+14 1.45204921e+14 1.45204921e+14 1.45204921e+14\n",
      " 1.45204921e+14]\n",
      "Mean squared error: 330223.95\n",
      "Coefficient of determination: 0.03\n"
     ]
    }
   ],
   "source": [
    "from sklearn.linear_model import LinearRegression\n",
    "from sklearn.metrics import mean_squared_error, r2_score\n",
    "\n",
    "lm = LinearRegression()\n",
    "lm.fit(df_train, y_train)\n",
    "lm.score(df_test, y_test)\n",
    "y_pred = lm.predict(df_test)\n",
    "\n",
    "# The coefficients\n",
    "print(\"Coefficients: \\n\", lm.coef_)\n",
    "# The mean squared error\n",
    "print(\"Mean squared error: %.2f\" % mean_squared_error(y_test, y_pred))\n",
    "# The coefficient of determination: 1 is perfect prediction\n",
    "print(\"Coefficient of determination: %.2f\" % r2_score(y_test, y_pred))"
   ]
  },
  {
   "cell_type": "code",
   "execution_count": null,
   "metadata": {},
   "outputs": [],
   "source": [
    "fb_df"
   ]
  },
  {
   "cell_type": "code",
   "execution_count": null,
   "metadata": {},
   "outputs": [],
   "source": [
    "#export cleaned data to csv file\n",
    "fb_df.to_csv('data/clened_data.csv', index=False)"
   ]
  },
  {
   "cell_type": "code",
   "execution_count": null,
   "metadata": {},
   "outputs": [],
   "source": [
    "#initialise \n",
    "#create dictionary of categories\n",
    "#create dataframe of image paths\n",
    "#numberies cats\n",
    "#prepare image cat datapoint\n"
   ]
  }
 ],
 "metadata": {
  "interpreter": {
   "hash": "c14a6692a215417f5263d283ebf372218c2d1b9771ac18dab80d5263bb04c7bf"
  },
  "kernelspec": {
   "display_name": "Python 3.9.12 ('selenium_project')",
   "language": "python",
   "name": "python3"
  },
  "language_info": {
   "codemirror_mode": {
    "name": "ipython",
    "version": 3
   },
   "file_extension": ".py",
   "mimetype": "text/x-python",
   "name": "python",
   "nbconvert_exporter": "python",
   "pygments_lexer": "ipython3",
   "version": "3.9.12"
  },
  "orig_nbformat": 4
 },
 "nbformat": 4,
 "nbformat_minor": 2
}
