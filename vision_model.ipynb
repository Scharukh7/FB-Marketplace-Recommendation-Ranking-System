{
 "cells": [
  {
   "cell_type": "code",
   "execution_count": null,
   "metadata": {},
   "outputs": [],
   "source": [
    "#create image classification model\n",
    "#first create an image dataset with correct labelling\n",
    "#load batches of data samples in pytorch and use cleaned images dataset"
   ]
  },
  {
   "cell_type": "code",
   "execution_count": null,
   "metadata": {},
   "outputs": [],
   "source": [
    "import pandas as pd\n",
    "import numpy as np\n",
    "import matplotlib.pyplot as plt\n",
    "from sklearn.model_selection import train_test_split\n",
    "from sklearn.metrics import accuracy_score\n",
    "from tqdm import tqdm\n",
    "import torch\n",
    "import torchvision\n",
    "from torch.autograd import Variable\n",
    "from torch.utils.data import Dataset, DataLoader\n",
    "import pickle\n",
    "import random"
   ]
  },
  {
   "cell_type": "code",
   "execution_count": null,
   "metadata": {},
   "outputs": [],
   "source": [
    "class ProductImageCategoryDataset():\n",
    "    def __init__(self):\n",
    "        super().__init__()\n",
    "        self.X = pd.read_pickle('data/image_model_X.pkl')\n",
    "        self.y = pd.read_pickle('data/image_model_y.pkl')\n",
    "        #train_X = np.array(self.X)\n",
    "        #print(train_X.shape)\n",
    "        print(len(self.X))\n",
    "        print(len(self.y))\n",
    "        assert len(self.X) == len(self.y)\n",
    "\n",
    "    def __getitem__(self, index):\n",
    "        features = self.X[index]\n",
    "        label = self.y.iloc[index]\n",
    "        print(index)\n",
    "        #features = torch.tensor(features)\n",
    "        #3=num of batch(get 3 images at every iteration of training the network)\n",
    "        features = features.reshape(3, 128, 128) \n",
    "        label = int(label)\n",
    "        \n",
    "        return (features, label)\n",
    "    \n",
    "    def __len__(self):\n",
    "        return len(self.X)\n",
    "\n",
    "dataset = ProductImageCategoryDataset()\n",
    "dataset[0]\n",
    "type(dataset[0][0])\n",
    "type(dataset[0][1])\n",
    "#print(len(dataset))\n",
    "#dataset[12667]\n",
    "#for idx in range(len(dataset)):\n",
    "    #example = dataset[idx]\n",
    "    #features, label = example\n",
    "    #print(features.shape)\n",
    "    #print(label)\n",
    "    #break"
   ]
  },
  {
   "cell_type": "code",
   "execution_count": null,
   "metadata": {},
   "outputs": [],
   "source": [
    "#num_workers allows pytorch to switch to perform multi-process data loading and speed up the process\n",
    "train_loader = DataLoader(dataset, batch_size=4, num_workers=2, shuffle=True)\n",
    "\n",
    " #   pass"
   ]
  },
  {
   "cell_type": "code",
   "execution_count": null,
   "metadata": {},
   "outputs": [],
   "source": [
    "class CNN(torch.nn.Module):\n",
    "    def __init__(self):\n",
    "        super(CNN, self).__init__()\n",
    "        self.layers = torch.nn.Sequential(\n",
    "            #3 input image channels, 8 output channels,\n",
    "            #9x9 square convolution kernel\n",
    "            torch.nn.Conv2d(3, 8, 9), \n",
    "            #Max pooling over a (2, 2) window, #kernel and stride=2\n",
    "            torch.nn.MaxPool2d(2, 2),\n",
    "            torch.nn.Flatten(), #flatten\n",
    "            torch.nn.Linear(25088, 13), #simplifiy further with linear layers\n",
    "            torch.nn.Softmax(dim=1) #turn into probabilities\n",
    "            \n",
    "        )\n",
    "\n",
    "    def forward(self, features):\n",
    "        return self.layers(features)\n",
    "\n",
    "model = CNN()\n",
    "\n",
    "for batch in train_loader:\n",
    "    #print(batch)\n",
    "    features, labels = batch\n",
    "    prediction = model(features)\n",
    "    break\n",
    "print(prediction)"
   ]
  }
 ],
 "metadata": {
  "interpreter": {
   "hash": "c14a6692a215417f5263d283ebf372218c2d1b9771ac18dab80d5263bb04c7bf"
  },
  "kernelspec": {
   "display_name": "Python 3.9.12 ('selenium_project')",
   "language": "python",
   "name": "python3"
  },
  "language_info": {
   "codemirror_mode": {
    "name": "ipython",
    "version": 3
   },
   "file_extension": ".py",
   "mimetype": "text/x-python",
   "name": "python",
   "nbconvert_exporter": "python",
   "pygments_lexer": "ipython3",
   "version": "3.9.12"
  },
  "orig_nbformat": 4
 },
 "nbformat": 4,
 "nbformat_minor": 2
}
