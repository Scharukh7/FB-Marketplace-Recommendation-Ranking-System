{
 "cells": [
  {
   "cell_type": "code",
   "execution_count": null,
   "metadata": {},
   "outputs": [],
   "source": [
    "from sqlalchemy import create_engine\n",
    "import pandas as pd\n",
    "import yaml\n",
    "import numpy as np\n",
    "import sklearn\n",
    "import os\n",
    "from os.path import isfile\n",
    "from pandas_profiling import ProfileReport"
   ]
  },
  {
   "cell_type": "code",
   "execution_count": null,
   "metadata": {},
   "outputs": [],
   "source": [
    "fb_df = pd.read_json(\"/home/shah/Desktop/FB-Marketplace-Recommendation-Ranking-System/data/products_table.json\")"
   ]
  },
  {
   "cell_type": "code",
   "execution_count": null,
   "metadata": {},
   "outputs": [],
   "source": [
    "fb_df = fb_df['category'].replace('N/A', np.nan)\n",
    "fb_df = fb_df.dropna()"
   ]
  },
  {
   "cell_type": "code",
   "execution_count": null,
   "metadata": {},
   "outputs": [],
   "source": [
    "def remove_n_a_rows(df, column: str):\n",
    "    # Swap N/A for the pandas nan, so we can drop them\n",
    "    temp_df = df[column].replace('N/A', np.nan)\n",
    "    temp_df = temp_df.dropna()\n",
    "    # Create a new df with only the records without the nans\n",
    "    clean_df = pd.merge(temp_df, df,\n",
    "                            left_index=True, right_index=True)\n",
    "    # The merge creates a duplicate column. Remove it.\n",
    "    clean_df.drop(column + '_x', inplace=True, axis=1)\n",
    "    # Rename the remaining category column\n",
    "    clean_df.rename(columns={column + '_y': column}, inplace=True)\n",
    "    # Commit the cleansed data to the dataframe\n",
    "    df = clean_df\n",
    "    return df\n",
    "\n",
    "fb_df = remove_n_a_rows(fb_df, 'category')"
   ]
  },
  {
   "cell_type": "code",
   "execution_count": null,
   "metadata": {},
   "outputs": [],
   "source": [
    "fb_df.head()"
   ]
  },
  {
   "cell_type": "code",
   "execution_count": null,
   "metadata": {},
   "outputs": [],
   "source": [
    "prof = ProfileReport(fb_df)\n",
    "prof.to_file(output_file='output.html')"
   ]
  },
  {
   "cell_type": "code",
   "execution_count": null,
   "metadata": {},
   "outputs": [],
   "source": [
    "fb_df['price'] = fb_df['price'].apply(\n",
    "            lambda x: x.strip(\"£\").replace(',',''))\n",
    "fb_df['price'] = fb_df['price'].astype('float64')\n",
    "fb_df.reset_index(drop=True)"
   ]
  },
  {
   "cell_type": "code",
   "execution_count": null,
   "metadata": {},
   "outputs": [],
   "source": [
    "fb_df = fb_df[fb_df['price'] > 1]\n",
    "fb_df = fb_df[fb_df['price'] < 10000]"
   ]
  },
  {
   "cell_type": "code",
   "execution_count": null,
   "metadata": {},
   "outputs": [],
   "source": [
    "fb_df.dtypes"
   ]
  },
  {
   "cell_type": "code",
   "execution_count": null,
   "metadata": {},
   "outputs": [],
   "source": [
    "#split categories into main using lambda\n",
    "fb_df['main_category'] = fb_df['category'].apply(\n",
    "    lambda x: x.split(\"/\")[0].strip())"
   ]
  },
  {
   "cell_type": "code",
   "execution_count": null,
   "metadata": {},
   "outputs": [],
   "source": [
    "#remove special characters from colums\n",
    "fb_df['product_name'] = fb_df['product_name'].str.lower().replace('[^0-9a-zA-Z]+', '_', regex=True)\n",
    "#category_encodings = pd.get_dummies(\n",
    " #           fb_df['product_name'], prefix='product_name', drop_first=True)\n",
    "#fb_df = pd.concat(\n",
    " #           [fb_df, category_encodings], axis=1)\n",
    "fb_df['product_description'] = fb_df['product_description'].str.lower().replace('[^0-9a-zA-Z]+', '_', regex=True)\n",
    "#category_encodings = pd.get_dummies(\n",
    " #           fb_df['product_description'], prefix='product_description', drop_first=True)\n",
    "#fb_df = pd.concat(\n",
    "  #          [fb_df, category_encodings], axis=1)\n",
    " #           fb_df['main_category'], prefix='main_category', drop_first=True)\n",
    "fb_df['location'] = fb_df['location'].str.lower().replace('[^0-9a-zA-Z]+', '_', regex=True)\n",
    "#category_encodings = pd.get_dummies(\n",
    " #           fb_df['location'], prefix='location', drop_first=True)\n",
    "#fb_df = pd.concat(\n",
    " #           [fb_df, category_encodings], axis=1)\n"
   ]
  },
  {
   "cell_type": "code",
   "execution_count": null,
   "metadata": {},
   "outputs": [],
   "source": [
    "fb_df"
   ]
  },
  {
   "cell_type": "code",
   "execution_count": null,
   "metadata": {},
   "outputs": [],
   "source": [
    "columns=[\"product_name\",\"product_description\",\"location\"]\n",
    "fb_df.drop_duplicates(subset=columns, keep=\"first\")"
   ]
  },
  {
   "cell_type": "code",
   "execution_count": null,
   "metadata": {},
   "outputs": [],
   "source": [
    "save_path = \"/home/shah/Desktop/FB-Marketplace-Recommendation-Ranking-System/data/cleaned_tabular_new.json\"\n",
    "clean_data = fb_df\n",
    "clean_data = clean_data.to_json(save_path)"
   ]
  },
  {
   "cell_type": "code",
   "execution_count": null,
   "metadata": {},
   "outputs": [],
   "source": [
    "import seaborn as sns\n",
    "sns.boxplot(x='main_category', y='price', data=fb_df)"
   ]
  },
  {
   "cell_type": "code",
   "execution_count": null,
   "metadata": {},
   "outputs": [],
   "source": [
    "X = new_data[['main_category']]\n",
    "y = new_data['price']\n",
    "\n",
    "X = pd.get_dummies(X, drop_first=True)\n",
    "X"
   ]
  },
  {
   "cell_type": "code",
   "execution_count": null,
   "metadata": {},
   "outputs": [],
   "source": [
    "from sklearn.metrics import mean_squared_error, r2_score, accuracy_score\n",
    "from sklearn.linear_model import LinearRegression, LogisticRegression\n",
    "import numpy as np\n",
    "import pandas as pd\n",
    "from sklearn.model_selection import train_test_split\n",
    "X_train, X_test, y_train, y_test = train_test_split(X, y, test_size=0.2, random_state=0)\n",
    "regr = LinearRegression()\n",
    "regr.fit(X_train, y_train)\n",
    "y_pred = regr.predict(X_test)\n",
    "# The coefficients\n",
    "print(\"Coefficients: \\n\", regr.coef_)\n",
    "# The mean squared error\n",
    "print(\"Mean squared error: %.2f\" % mean_squared_error(y_test, y_pred))\n",
    "# The coefficient of determination: 1 is perfect prediction\n",
    "print(\"Coefficient of determination: %.2f\" % r2_score(y_test, y_pred))\n",
    "        "
   ]
  },
  {
   "cell_type": "code",
   "execution_count": null,
   "metadata": {},
   "outputs": [],
   "source": [
    "from sklearn.model_selection import train_test_split\n",
    "X_train, X_test, y_train, y_test = train_test_split(\n",
    "    X, y, test_size=0.3, random_state=1\n",
    ")\n",
    "X_train"
   ]
  },
  {
   "cell_type": "code",
   "execution_count": null,
   "metadata": {},
   "outputs": [],
   "source": [
    "import matplotlib.pyplot as plt\n",
    "plt.scatter(y_test, y_pred)"
   ]
  },
  {
   "cell_type": "code",
   "execution_count": null,
   "metadata": {},
   "outputs": [],
   "source": [
    "#result with product_name\n",
    "#Coefficients: \n",
    "# [-114.6611036 -184.6611036 -184.4611036 ... -125.6611036 -160.6611036\n",
    "# -165.6611036]\n",
    "#Mean squared error: 312604.47\n",
    "#Coefficient of determination: 0.02\n",
    "\n",
    "#result with product_description\n",
    "#Coefficients: \n",
    "# [-174.32112853 -176.32112853 -136.32112853 ... -168.32112853 -181.32112853\n",
    "# -126.32112853]\n",
    "#Mean squared error: 313237.48\n",
    "#Coefficient of determination: 0.02\n",
    "\n",
    "#result with location\n",
    "#Coefficients: \n",
    "# [1.21784284e+14 1.21784284e+14 1.21784284e+14 ... 1.21784284e+14\n",
    "# 1.21784284e+14 1.21784284e+14]\n",
    "#Mean squared error: 1706705503531225766334300160.00\n",
    "#Coefficient of determination: -5323258916010414047232.00\n",
    "\n",
    "#result with main_category\n",
    "#Coefficients: \n",
    "# [-1.32240253e+14 -1.32240253e+14 -1.32240253e+14 -1.32240253e+14\n",
    "# -1.32240253e+14 -1.32240253e+14 -1.32240253e+14 -1.32240253e+14\n",
    "# -1.32240253e+14 -1.32240253e+14 -1.32240253e+14 -1.32240253e+14\n",
    "# -1.32240253e+14]\n",
    "#Mean squared error: 307299.58\n",
    "#Coefficient of determination: 0.04"
   ]
  },
  {
   "cell_type": "code",
   "execution_count": null,
   "metadata": {},
   "outputs": [],
   "source": [
    "fb_df"
   ]
  },
  {
   "cell_type": "code",
   "execution_count": null,
   "metadata": {},
   "outputs": [],
   "source": [
    "import geopy\n",
    "from geopy.geocoders import Nominatim\n",
    "from geopy.extra.rate_limiter import RateLimiter\n",
    "\n",
    "geocoder = Nominatim(user_agent='GetLoc')\n",
    "geocode = RateLimiter(geocoder.geocode, min_delay_seconds=0.3, return_value_on_exception=None)\n",
    "#location = geocode.reverse(, timeout=10, language='en')\n",
    "fb_df['geo_location'] = fb_df['location'].apply(geocode)\n",
    "fb_df['longiude_latitude'] = fb_df['geo_location'].apply(\n",
    "    lambda loc: tuple(loc.point) if loc else None)\n"
   ]
  },
  {
   "cell_type": "code",
   "execution_count": null,
   "metadata": {},
   "outputs": [],
   "source": [
    "save_path = \"data/cleaned_tabular_new.json\"\n",
    "clean_data = fb_df\n",
    "clean_data = clean_data.to_json(save_path)"
   ]
  },
  {
   "cell_type": "code",
   "execution_count": null,
   "metadata": {},
   "outputs": [],
   "source": [
    "image_df = pd.read_csv('/home/shah/Desktop/FB-Marketplace-Recommendation-Ranking-System/data/Images.csv')"
   ]
  },
  {
   "cell_type": "code",
   "execution_count": null,
   "metadata": {},
   "outputs": [],
   "source": [
    "new_data = pd.read_json('/home/shah/Desktop/FB-Marketplace-Recommendation-Ranking-System/data/cleaned_tabular_new.json')"
   ]
  },
  {
   "cell_type": "code",
   "execution_count": null,
   "metadata": {},
   "outputs": [],
   "source": [
    "merge_df = image_df.merge(new_data, how='inner', left_on='product_id', right_on='id')"
   ]
  },
  {
   "cell_type": "code",
   "execution_count": null,
   "metadata": {},
   "outputs": [],
   "source": [
    "merge_df"
   ]
  },
  {
   "cell_type": "code",
   "execution_count": null,
   "metadata": {},
   "outputs": [],
   "source": [
    "save_dir = \"/home/shah/Desktop/FB-Marketplace-Recommendation-Ranking-System/data/new_merge_df.csv\"\n",
    "merge_data = merge_df\n",
    "merge_data = clean_data.to_csv(save_dir, axis=1)"
   ]
  },
  {
   "cell_type": "code",
   "execution_count": null,
   "metadata": {},
   "outputs": [],
   "source": [
    "def export_df_to_csv(df):\n",
    "    \"\"\"\n",
    "    Export the dataframe to a csv file.\n",
    "\n",
    "    Args:\n",
    "        df (pandas.DataFrame): The dataframe to export.\n",
    "    \"\"\"\n",
    "    df.to_csv('/home/shah/Desktop/FB-Marketplace-Recommendation-Ranking-System/data/new_merge_df.csv', index=False)\n",
    "\n",
    "export_df_to_csv(merge_df)  "
   ]
  }
 ],
 "metadata": {
  "interpreter": {
   "hash": "c14a6692a215417f5263d283ebf372218c2d1b9771ac18dab80d5263bb04c7bf"
  },
  "kernelspec": {
   "display_name": "Python 3.9.12 ('selenium_project')",
   "language": "python",
   "name": "python3"
  },
  "language_info": {
   "codemirror_mode": {
    "name": "ipython",
    "version": 3
   },
   "file_extension": ".py",
   "mimetype": "text/x-python",
   "name": "python",
   "nbconvert_exporter": "python",
   "pygments_lexer": "ipython3",
   "version": "3.9.12"
  },
  "orig_nbformat": 4
 },
 "nbformat": 4,
 "nbformat_minor": 2
}
