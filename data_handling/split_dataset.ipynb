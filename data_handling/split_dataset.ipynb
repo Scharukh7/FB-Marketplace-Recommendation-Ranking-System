{
 "cells": [
  {
   "cell_type": "code",
   "execution_count": 1,
   "metadata": {},
   "outputs": [],
   "source": [
    "import splitfolders\n",
    "import pandas as pd\n",
    "import csv"
   ]
  },
  {
   "cell_type": "code",
   "execution_count": 2,
   "metadata": {},
   "outputs": [
    {
     "data": {
      "text/html": [
       "<div>\n",
       "<style scoped>\n",
       "    .dataframe tbody tr th:only-of-type {\n",
       "        vertical-align: middle;\n",
       "    }\n",
       "\n",
       "    .dataframe tbody tr th {\n",
       "        vertical-align: top;\n",
       "    }\n",
       "\n",
       "    .dataframe thead th {\n",
       "        text-align: right;\n",
       "    }\n",
       "</style>\n",
       "<table border=\"1\" class=\"dataframe\">\n",
       "  <thead>\n",
       "    <tr style=\"text-align: right;\">\n",
       "      <th></th>\n",
       "      <th>Unnamed: 0</th>\n",
       "      <th>label</th>\n",
       "      <th>category</th>\n",
       "      <th>image_name</th>\n",
       "      <th>image_array</th>\n",
       "    </tr>\n",
       "  </thead>\n",
       "  <tbody>\n",
       "    <tr>\n",
       "      <th>0</th>\n",
       "      <td>0</td>\n",
       "      <td>Clothes, Footwear &amp; Accessories</td>\n",
       "      <td>3</td>\n",
       "      <td>8de5ca28-bd97-42df-98eb-7bc2eb5503be</td>\n",
       "      <td>[0. 0. 0. ... 0. 0. 0.]</td>\n",
       "    </tr>\n",
       "    <tr>\n",
       "      <th>1</th>\n",
       "      <td>1</td>\n",
       "      <td>Phones, Mobile Phones &amp; Telecoms</td>\n",
       "      <td>9</td>\n",
       "      <td>8061626e-376c-437a-8f48-4ac38e480cb9</td>\n",
       "      <td>[0. 0. 0. ... 0. 0. 0.]</td>\n",
       "    </tr>\n",
       "    <tr>\n",
       "      <th>2</th>\n",
       "      <td>2</td>\n",
       "      <td>Health &amp; Beauty</td>\n",
       "      <td>1</td>\n",
       "      <td>59c9ee19-48e9-47e0-9635-eaa5b2cb8e4c</td>\n",
       "      <td>[0. 0. 0. ... 0. 0. 0.]</td>\n",
       "    </tr>\n",
       "    <tr>\n",
       "      <th>3</th>\n",
       "      <td>3</td>\n",
       "      <td>Other Goods</td>\n",
       "      <td>8</td>\n",
       "      <td>6946affd-4b40-4c49-ae57-29a35531f69e</td>\n",
       "      <td>[0. 0. 0. ... 0. 0. 0.]</td>\n",
       "    </tr>\n",
       "    <tr>\n",
       "      <th>4</th>\n",
       "      <td>4</td>\n",
       "      <td>Health &amp; Beauty</td>\n",
       "      <td>1</td>\n",
       "      <td>99816296-3e6f-40a5-86df-9c41c3b809a6</td>\n",
       "      <td>[0. 0. 0. ... 0. 0. 0.]</td>\n",
       "    </tr>\n",
       "    <tr>\n",
       "      <th>...</th>\n",
       "      <td>...</td>\n",
       "      <td>...</td>\n",
       "      <td>...</td>\n",
       "      <td>...</td>\n",
       "      <td>...</td>\n",
       "    </tr>\n",
       "    <tr>\n",
       "      <th>11585</th>\n",
       "      <td>11585</td>\n",
       "      <td>Computers &amp; Software</td>\n",
       "      <td>10</td>\n",
       "      <td>deaa46ca-cd9c-43a2-a822-0ee9f07e5267</td>\n",
       "      <td>[0. 0. 0. ... 0. 0. 0.]</td>\n",
       "    </tr>\n",
       "    <tr>\n",
       "      <th>11586</th>\n",
       "      <td>11586</td>\n",
       "      <td>Other Goods</td>\n",
       "      <td>8</td>\n",
       "      <td>be2bd244-5c8a-4263-94c3-e9d4e4112573</td>\n",
       "      <td>[0. 0. 0. ... 0. 0. 0.]</td>\n",
       "    </tr>\n",
       "    <tr>\n",
       "      <th>11587</th>\n",
       "      <td>11587</td>\n",
       "      <td>Music, Films, Books &amp; Games</td>\n",
       "      <td>7</td>\n",
       "      <td>147a4cab-f581-44a5-a9ee-39166f0693bb</td>\n",
       "      <td>[0. 0. 0. ... 0. 0. 0.]</td>\n",
       "    </tr>\n",
       "    <tr>\n",
       "      <th>11588</th>\n",
       "      <td>11588</td>\n",
       "      <td>Appliances</td>\n",
       "      <td>6</td>\n",
       "      <td>6d5270ee-41bb-4710-bce8-dea551df7027</td>\n",
       "      <td>[0. 0. 0. ... 0. 0. 0.]</td>\n",
       "    </tr>\n",
       "    <tr>\n",
       "      <th>11589</th>\n",
       "      <td>11589</td>\n",
       "      <td>Health &amp; Beauty</td>\n",
       "      <td>1</td>\n",
       "      <td>3becf124-de55-48b0-8a4c-9e31c1494302</td>\n",
       "      <td>[0. 0. 0. ... 0. 0. 0.]</td>\n",
       "    </tr>\n",
       "  </tbody>\n",
       "</table>\n",
       "<p>11590 rows × 5 columns</p>\n",
       "</div>"
      ],
      "text/plain": [
       "       Unnamed: 0                              label  category  \\\n",
       "0               0   Clothes, Footwear & Accessories          3   \n",
       "1               1  Phones, Mobile Phones & Telecoms          9   \n",
       "2               2                   Health & Beauty          1   \n",
       "3               3                       Other Goods          8   \n",
       "4               4                   Health & Beauty          1   \n",
       "...           ...                                ...       ...   \n",
       "11585       11585              Computers & Software         10   \n",
       "11586       11586                       Other Goods          8   \n",
       "11587       11587       Music, Films, Books & Games          7   \n",
       "11588       11588                        Appliances          6   \n",
       "11589       11589                   Health & Beauty          1   \n",
       "\n",
       "                                 image_name              image_array  \n",
       "0      8de5ca28-bd97-42df-98eb-7bc2eb5503be  [0. 0. 0. ... 0. 0. 0.]  \n",
       "1      8061626e-376c-437a-8f48-4ac38e480cb9  [0. 0. 0. ... 0. 0. 0.]  \n",
       "2      59c9ee19-48e9-47e0-9635-eaa5b2cb8e4c  [0. 0. 0. ... 0. 0. 0.]  \n",
       "3      6946affd-4b40-4c49-ae57-29a35531f69e  [0. 0. 0. ... 0. 0. 0.]  \n",
       "4      99816296-3e6f-40a5-86df-9c41c3b809a6  [0. 0. 0. ... 0. 0. 0.]  \n",
       "...                                     ...                      ...  \n",
       "11585  deaa46ca-cd9c-43a2-a822-0ee9f07e5267  [0. 0. 0. ... 0. 0. 0.]  \n",
       "11586  be2bd244-5c8a-4263-94c3-e9d4e4112573  [0. 0. 0. ... 0. 0. 0.]  \n",
       "11587  147a4cab-f581-44a5-a9ee-39166f0693bb  [0. 0. 0. ... 0. 0. 0.]  \n",
       "11588  6d5270ee-41bb-4710-bce8-dea551df7027  [0. 0. 0. ... 0. 0. 0.]  \n",
       "11589  3becf124-de55-48b0-8a4c-9e31c1494302  [0. 0. 0. ... 0. 0. 0.]  \n",
       "\n",
       "[11590 rows x 5 columns]"
      ]
     },
     "execution_count": 2,
     "metadata": {},
     "output_type": "execute_result"
    }
   ],
   "source": [
    "image_data_label_df = pd.read_csv(\"/home/shah/Desktop/FB-Marketplace-Recommendation-Ranking-System/data/image_label_data.csv\")\n",
    "image_data_label_df"
   ]
  },
  {
   "cell_type": "code",
   "execution_count": 3,
   "metadata": {},
   "outputs": [],
   "source": [
    "#create train folder and split according to labels for every image\n",
    "import shutil, os\n",
    "\n",
    "label = image_data_label_df.sort_values('label')\n",
    "class_names = list(label.label.unique())\n",
    "\n",
    "#train_images = 'data/train'\n",
    "train_cat = '/home/shah/Desktop/FB-Marketplace-Recommendation-Ranking-System/data/train_images'"
   ]
  },
  {
   "cell_type": "code",
   "execution_count": 4,
   "metadata": {},
   "outputs": [],
   "source": [
    "for i in class_names:\n",
    "    os.makedirs(os.path.join('/home/shah/Desktop/FB-Marketplace-Recommendation-Ranking-System/data/train_images', i))\n",
    "for c in class_names:\n",
    "    for i in list(label[label['label']==c]['image_name']):\n",
    "        #get images from the cleaned images folder and join with with new train folder\n",
    "        get_image = os.path.join('/home/shah/Desktop/FB-Marketplace-Recommendation-Ranking-System/data/cleaned_images/',i +'.jpg',)\n",
    "        move_image_to_cat = shutil.move(get_image, '/home/shah/Desktop/FB-Marketplace-Recommendation-Ranking-System/data/train_images/'+c)"
   ]
  },
  {
   "cell_type": "code",
   "execution_count": 5,
   "metadata": {},
   "outputs": [
    {
     "name": "stderr",
     "output_type": "stream",
     "text": [
      "Copying files: 11590 files [00:00, 13638.81 files/s]\n"
     ]
    }
   ],
   "source": [
    "#split images according to their category label and split into 70% training, 20% validation, 10% testing\n",
    "input_folder = '/home/shah/Desktop/FB-Marketplace-Recommendation-Ranking-System/data/train_images/'\n",
    "\n",
    "splitfolders.ratio(input_folder, output=\"/home/shah/Desktop/FB-Marketplace-Recommendation-Ranking-System/data_images\",\n",
    "                    seed=42, ratio=(0.7, 0.2, 0.1), group_prefix=None)"
   ]
  }
 ],
 "metadata": {
  "interpreter": {
   "hash": "c14a6692a215417f5263d283ebf372218c2d1b9771ac18dab80d5263bb04c7bf"
  },
  "kernelspec": {
   "display_name": "Python 3.9.12 ('selenium_project')",
   "language": "python",
   "name": "python3"
  },
  "language_info": {
   "codemirror_mode": {
    "name": "ipython",
    "version": 3
   },
   "file_extension": ".py",
   "mimetype": "text/x-python",
   "name": "python",
   "nbconvert_exporter": "python",
   "pygments_lexer": "ipython3",
   "version": "3.9.12"
  },
  "orig_nbformat": 4
 },
 "nbformat": 4,
 "nbformat_minor": 2
}
