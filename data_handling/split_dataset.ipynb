{
 "cells": [
  {
   "cell_type": "code",
   "execution_count": 1,
   "metadata": {},
   "outputs": [],
   "source": [
    "import splitfolders\n",
    "import pandas as pd\n",
    "import csv"
   ]
  },
  {
   "cell_type": "code",
   "execution_count": null,
   "metadata": {},
   "outputs": [],
   "source": [
    "image_data_label_df = pd.read_csv(\"data/image_data_label.csv\")\n",
    "image_data_label_df"
   ]
  },
  {
   "cell_type": "code",
   "execution_count": null,
   "metadata": {},
   "outputs": [],
   "source": [
    "#create train folder and split according to labels for every image\n",
    "import shutil, os\n",
    "\n",
    "label = image_data_label_df.sort_values('label')\n",
    "class_names = list(label.label.unique())\n",
    "\n",
    "#train_images = 'data/train'\n",
    "train_cat = 'data/train'"
   ]
  },
  {
   "cell_type": "code",
   "execution_count": null,
   "metadata": {},
   "outputs": [],
   "source": [
    "for i in class_names:\n",
    "    os.makedirs(os.path.join('data/train', i))\n",
    "for c in class_names:\n",
    "    for i in list(label[label['label']==c]['image_name']):\n",
    "        #get images from the cleaned images folder and join with with new train folder\n",
    "        get_image = os.path.join('data/cleaned_images/',i +'.jpg',)\n",
    "        move_image_to_cat = shutil.move(get_image, 'data/train/'+c)"
   ]
  },
  {
   "cell_type": "code",
   "execution_count": 2,
   "metadata": {},
   "outputs": [
    {
     "name": "stderr",
     "output_type": "stream",
     "text": [
      "Copying files: 12370 files [00:00, 15889.47 files/s]\n"
     ]
    }
   ],
   "source": [
    "#split images according to their category label and split into 70% training, 20% validation, 10% testing\n",
    "input_folder = 'data/train/'\n",
    "\n",
    "splitfolders.ratio(input_folder, output=\"data/data_images\",\n",
    "                    seed=42, ratio=(0.7, 0.2, 0.1), group_prefix=None)"
   ]
  }
 ],
 "metadata": {
  "interpreter": {
   "hash": "c14a6692a215417f5263d283ebf372218c2d1b9771ac18dab80d5263bb04c7bf"
  },
  "kernelspec": {
   "display_name": "Python 3.9.12 ('selenium_project')",
   "language": "python",
   "name": "python3"
  },
  "language_info": {
   "codemirror_mode": {
    "name": "ipython",
    "version": 3
   },
   "file_extension": ".py",
   "mimetype": "text/x-python",
   "name": "python",
   "nbconvert_exporter": "python",
   "pygments_lexer": "ipython3",
   "version": "3.9.12"
  },
  "orig_nbformat": 4
 },
 "nbformat": 4,
 "nbformat_minor": 2
}
