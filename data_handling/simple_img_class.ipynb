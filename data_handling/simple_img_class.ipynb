{
 "cells": [
  {
   "cell_type": "code",
   "execution_count": null,
   "metadata": {},
   "outputs": [],
   "source": [
    "import pandas as pd\n",
    "import numpy as np\n",
    "import matplotlib.pyplot as plt\n",
    "import sklearn\n",
    "from sklearn.linear_model import LogisticRegression\n",
    "from sklearn.model_selection import train_test_split\n",
    "from sklearn.metrics import accuracy_score\n",
    "from PIL import Image\n",
    "import glob\n",
    "import torch\n",
    "from torchvision.transforms import ToTensor\n",
    "from PIL import UnidentifiedImageError"
   ]
  },
  {
   "cell_type": "code",
   "execution_count": null,
   "metadata": {},
   "outputs": [],
   "source": [
    "merge_df = pd.read_csv(\"/home/shah/Desktop/FB-Marketplace-Recommendation-Ranking-System/data/new_merge_df.csv\", lineterminator='\\n')"
   ]
  },
  {
   "cell_type": "code",
   "execution_count": null,
   "metadata": {},
   "outputs": [],
   "source": [
    "merge_df"
   ]
  },
  {
   "cell_type": "code",
   "execution_count": null,
   "metadata": {},
   "outputs": [],
   "source": [
    "image_paths = glob.glob('/home/shah/Desktop/FB-Marketplace-Recommendation-Ranking-System/data/cleaned_images/*.jpg')\n",
    "image_name = [x.split('/')[-1].split('.')[0] for x in image_paths]\n",
    "image_df = pd.DataFrame({'image_name': image_name})\n",
    "image_df"
   ]
  },
  {
   "cell_type": "code",
   "execution_count": null,
   "metadata": {},
   "outputs": [],
   "source": [
    "#create dictionary of category and convert to number\n",
    "cat_dict = set(merge_df['main_category'])\n",
    "cat_dict = {k: v for v, k in enumerate(cat_dict)}\n",
    "#merge_df['main_category'] = merge_df['main_category'].map(cat_dict)\n",
    "#y_labelling['category'] = y_labelling['category'].map(cat_dict)"
   ]
  },
  {
   "cell_type": "code",
   "execution_count": null,
   "metadata": {},
   "outputs": [],
   "source": [
    "cat_dict"
   ]
  },
  {
   "cell_type": "code",
   "execution_count": null,
   "metadata": {},
   "outputs": [],
   "source": [
    "#merge image name df with merge df\n",
    "image_cat_df = image_df.merge(merge_df, how='inner', left_on='image_name', right_on='id_x')\n",
    "#drop all columns except for image name and main category\n",
    "image_cat_df = image_cat_df[['image_name', 'main_category']]"
   ]
  },
  {
   "cell_type": "code",
   "execution_count": null,
   "metadata": {},
   "outputs": [],
   "source": [
    "image_cat_df"
   ]
  },
  {
   "cell_type": "code",
   "execution_count": null,
   "metadata": {},
   "outputs": [],
   "source": [
    "complete_img_arr = []\n",
    "image_array = []\n",
    "img_name = []\n",
    "image_category = []\n",
    "for index, img in enumerate(image_paths[:11590],0):\n",
    "    images = image_cat_df['image_name'][index]\n",
    "    image = Image.open(img)\n",
    "    image = np.array(image)\n",
    "    t = ToTensor()\n",
    "    image = t(image)\n",
    "    image = torch.flatten(image)\n",
    "    image = image.numpy()\n",
    "    category = image_cat_df['main_category'][index]\n",
    "    image_array.append(image)\n",
    "    img_name.append(images)\n",
    "    image_category.append(category)\n",
    "    cat_arr_list = image, category\n",
    "    complete_img_arr.append(cat_arr_list)\n",
    "    "
   ]
  },
  {
   "cell_type": "code",
   "execution_count": null,
   "metadata": {},
   "outputs": [],
   "source": [
    "image_data_dict = {\n",
    "    'category': image_category, 'image_name': img_name, 'image_array': image_array, 'label': image_category\n",
    "}"
   ]
  },
  {
   "cell_type": "code",
   "execution_count": null,
   "metadata": {},
   "outputs": [],
   "source": [
    "image_data_df = pd.DataFrame(image_data_dict, columns=['label','category','image_name', 'image_array'])\n",
    "image_data_df"
   ]
  },
  {
   "cell_type": "code",
   "execution_count": null,
   "metadata": {},
   "outputs": [],
   "source": [
    "image_cat_df"
   ]
  },
  {
   "cell_type": "code",
   "execution_count": null,
   "metadata": {},
   "outputs": [],
   "source": [
    "cat_dict = set(image_cat_df['main_category'])\n",
    "cat_dict = {k: v for v, k in enumerate(cat_dict)}\n",
    "image_cat_df['main_category'] = image_cat_df['main_category'].map(cat_dict)\n",
    "#y_labelling['category'] = y_labelling['category'].map(cat_dict)"
   ]
  },
  {
   "cell_type": "code",
   "execution_count": null,
   "metadata": {},
   "outputs": [],
   "source": [
    "cat_dict"
   ]
  },
  {
   "cell_type": "code",
   "execution_count": null,
   "metadata": {},
   "outputs": [],
   "source": [
    "image_data_df"
   ]
  },
  {
   "cell_type": "code",
   "execution_count": null,
   "metadata": {},
   "outputs": [],
   "source": [
    "\n",
    "X = list(image_data_df['image_array'])\n",
    "y = list(image_data_df['category'])\n",
    "\n",
    "y = np.array(y)"
   ]
  },
  {
   "cell_type": "code",
   "execution_count": null,
   "metadata": {},
   "outputs": [],
   "source": [
    "X_train, X_test, y_train, y_test = train_test_split(X, y, test_size=0.2, random_state=42)\n",
    "print(len(X_train))\n",
    "print(len(X_test))\n",
    "print(len(y_train))\n",
    "print(len(y_test))"
   ]
  },
  {
   "cell_type": "code",
   "execution_count": null,
   "metadata": {},
   "outputs": [],
   "source": [
    "model = LogisticRegression(penalty='none', tol=0.1, solver='saga', multi_class='multinomial')"
   ]
  },
  {
   "cell_type": "code",
   "execution_count": null,
   "metadata": {},
   "outputs": [],
   "source": [
    "model.fit(X_train, y_train)\n",
    "predictions = model.predict(X_test)"
   ]
  },
  {
   "cell_type": "code",
   "execution_count": null,
   "metadata": {},
   "outputs": [],
   "source": [
    "print(y_test[10])\n",
    "print('Predicted Class is: %d' % predictions[10])\n",
    "\n",
    "print(y_test[44])\n",
    "print('Predicted Class is: %d' % predictions[44])"
   ]
  },
  {
   "cell_type": "code",
   "execution_count": null,
   "metadata": {},
   "outputs": [],
   "source": [
    "from sklearn import metrics\n",
    "\n",
    "score = model.score(X_test, y_test)\n",
    "print(score)\n",
    "print(len(y_test))\n",
    "confusion_matrix = metrics.confusion_matrix(y_test, predictions)\n",
    "print(confusion_matrix)"
   ]
  },
  {
   "cell_type": "code",
   "execution_count": null,
   "metadata": {},
   "outputs": [],
   "source": [
    "import seaborn as sns\n",
    "import matplotlib.pyplot as plt\n",
    "\n",
    "plt.figure(figsize=(13,13))\n",
    "sns.heatmap(confusion_matrix, annot=True, fmt=\".3f\", linewidths=.5, square = True, cmap = 'Blues_r');\n",
    "plt.ylabel('Actual label');\n",
    "plt.xlabel('Predicted label');\n",
    "all_sample_title = 'Accuracy Score: {0}'.format(score)\n",
    "plt.title(all_sample_title, size = 15)"
   ]
  },
  {
   "cell_type": "code",
   "execution_count": null,
   "metadata": {},
   "outputs": [],
   "source": [
    "cm = pd.crosstab(y_test, predictions, \n",
    "                               rownames=['Actual'], colnames=['Predicted'], normalize='index')\n",
    "p = plt.figure(figsize=(10,10));\n",
    "p = sns.heatmap(cm, annot=True, fmt=\".2f\", cbar=False)\n",
    "p.set_title(f'Overall accuracy score: {score}')\n",
    "cat_dict"
   ]
  },
  {
   "cell_type": "code",
   "execution_count": null,
   "metadata": {},
   "outputs": [],
   "source": [
    "cat_dict = {value:key for key, value in cat_dict.items()}\n",
    "uuid_category_dict = {}\n",
    "for id, uuid in image_data_df['image_name'].items():\n",
    "    print(f'id: {id}')\n",
    "    print(f'uuid: {uuid}')\n",
    "    corr_class = cat_dict[image_data_df['category'][id]]\n",
    "    print(f'corr_class: {corr_class}')\n",
    "    uuid_category_dict[uuid] = corr_class\n"
   ]
  },
  {
   "cell_type": "code",
   "execution_count": null,
   "metadata": {},
   "outputs": [],
   "source": [
    "uuid_category_dict"
   ]
  },
  {
   "cell_type": "code",
   "execution_count": null,
   "metadata": {},
   "outputs": [],
   "source": [
    "y_data = image_data_df.drop(['image_array'],axis=1, inplace=True)"
   ]
  },
  {
   "cell_type": "code",
   "execution_count": null,
   "metadata": {},
   "outputs": [],
   "source": [
    "#save_path = \"data/image_model_y.pkl\"\n",
    "#y_data = image_data_df['category']\n",
    "#y_data = y_data.to_pickle(save_path)"
   ]
  }
 ],
 "metadata": {
  "interpreter": {
   "hash": "c14a6692a215417f5263d283ebf372218c2d1b9771ac18dab80d5263bb04c7bf"
  },
  "kernelspec": {
   "display_name": "Python 3.9.12 ('selenium_project')",
   "language": "python",
   "name": "python3"
  },
  "language_info": {
   "codemirror_mode": {
    "name": "ipython",
    "version": 3
   },
   "file_extension": ".py",
   "mimetype": "text/x-python",
   "name": "python",
   "nbconvert_exporter": "python",
   "pygments_lexer": "ipython3",
   "version": "3.9.12"
  },
  "orig_nbformat": 4
 },
 "nbformat": 4,
 "nbformat_minor": 2
}
